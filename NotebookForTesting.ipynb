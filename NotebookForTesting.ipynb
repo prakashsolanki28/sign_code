{
 "cells": [
  {
   "cell_type": "code",
   "execution_count": 2,
   "metadata": {},
   "outputs": [],
   "source": [
    "import pandas as pd"
   ]
  },
  {
   "cell_type": "code",
   "execution_count": 4,
   "metadata": {},
   "outputs": [
    {
     "name": "stdout",
     "output_type": "stream",
     "text": [
      "(112, 64)\n",
      "0     0.001823\n",
      "1     0.002097\n",
      "2     0.001384\n",
      "3     0.001446\n",
      "4     0.001427\n",
      "        ...   \n",
      "58    0.021019\n",
      "59    0.000199\n",
      "60    0.003008\n",
      "61    0.038458\n",
      "62    0.000390\n",
      "Length: 63, dtype: float64\n",
      "Avg variance =  0.0036102015931617063\n"
     ]
    },
    {
     "name": "stderr",
     "output_type": "stream",
     "text": [
      "C:\\Users\\chira\\AppData\\Local\\Temp\\ipykernel_13608\\1149079677.py:5: FutureWarning: The default value of numeric_only in DataFrame.var is deprecated. In a future version, it will default to False. In addition, specifying 'numeric_only=None' is deprecated. Select only valid columns or specify the value of numeric_only to silence this warning.\n",
      "  var = df.var(axis=\"rows\")\n"
     ]
    }
   ],
   "source": [
    "#For variance calculations\n",
    "\n",
    "df = pd.read_csv(\"Data\\initialTests.csv\")\n",
    "print(df.shape)\n",
    "var = df.var(axis=\"rows\")\n",
    "print(var)\n",
    "print(\"Avg variance = \", var.mean())"
   ]
  },
  {
   "attachments": {},
   "cell_type": "markdown",
   "metadata": {},
   "source": [
    "Avg variance for different =  0.007433040128087138 <br>\n",
    "Avg variance for same =  0.002825664339172935"
   ]
  },
  {
   "cell_type": "markdown",
   "metadata": {},
   "source": []
  }
 ],
 "metadata": {
  "kernelspec": {
   "display_name": "env",
   "language": "python",
   "name": "python3"
  },
  "language_info": {
   "codemirror_mode": {
    "name": "ipython",
    "version": 3
   },
   "file_extension": ".py",
   "mimetype": "text/x-python",
   "name": "python",
   "nbconvert_exporter": "python",
   "pygments_lexer": "ipython3",
   "version": "3.10.9"
  },
  "orig_nbformat": 4,
  "vscode": {
   "interpreter": {
    "hash": "eb39354d2a72374d67f43e6810e36c980c7d88101a9b6d65e282683c4b0a55df"
   }
  }
 },
 "nbformat": 4,
 "nbformat_minor": 2
}
